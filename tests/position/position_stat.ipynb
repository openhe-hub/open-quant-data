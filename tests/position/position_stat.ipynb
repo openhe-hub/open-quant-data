{
 "cells": [
  {
   "cell_type": "code",
   "execution_count": 1,
   "metadata": {
    "collapsed": true,
    "ExecuteTime": {
     "end_time": "2023-12-21T10:52:41.357122200Z",
     "start_time": "2023-12-21T10:52:40.359641800Z"
    }
   },
   "outputs": [],
   "source": [
    "import pandas as pd\n"
   ]
  },
  {
   "cell_type": "code",
   "execution_count": 2,
   "outputs": [],
   "source": [
    "# 可转债交换套利\n",
    "bond_diff_ids = ['127022', '127067']\n",
    "# 可转债三低轮动\n",
    "bond_trans_df = pd.read_csv('./strategy/bond_trans.csv')\n",
    "bond_trans_ids = bond_trans_df['bond_id'].tolist()\n",
    "for i in range(len(bond_trans_ids)):\n",
    "    bond_trans_ids[i] = bond_trans_ids[i].split('.')[0]\n",
    "# 绩优小市值轮动\n",
    "small_stocks_df = pd.read_csv('./strategy/head_brief.csv')\n",
    "small_stocks_ids = small_stocks_df['stock_id'].tolist()\n",
    "for i in range(len(small_stocks_ids)):\n",
    "    small_stocks_ids[i] = small_stocks_ids[i].split('.')[0]"
   ],
   "metadata": {
    "collapsed": false,
    "ExecuteTime": {
     "end_time": "2023-12-21T10:54:51.472810900Z",
     "start_time": "2023-12-21T10:54:51.435216500Z"
    }
   }
  },
  {
   "cell_type": "code",
   "execution_count": 10,
   "outputs": [
    {
     "name": "stdout",
     "output_type": "stream",
     "text": [
      "{'日期': '2023-12-21', '净值': 0.9886037458057635, '总市值': 385478.32, '当日涨跌幅': 1.0376728960851274e-06, '累计涨跌幅': -0.01139625419423651, '当日盈亏': 0.4, '累计盈亏': -4443.650000000001, '出入金': -0.010000000009313226}\n",
      "{'日期': '2023-12-21', '净值': 0.9996447938823202, '总市值': 1001895.0800000001, '当日涨跌幅': 0.010509098503854642, '累计涨跌幅': -0.00035520611767980714, '当日盈亏': 10423.76, '累计盈亏': -355.84000000000015, '出入金': -408.2399999999907}\n",
      "{'日期': '2023-12-21', '净值': 0.9998824943880759, '总市值': 1500401.0, '当日涨跌幅': 0.010556722087605098, '累计涨跌幅': -0.00011750561192414022, '当日盈亏': 15671.0, '累计盈亏': -173.07999999999993, '出入金': 273.0}\n"
     ]
    }
   ],
   "source": [
    "from datetime import datetime\n",
    "\n",
    "# 做账脚本\n",
    "now = datetime.now()\n",
    "curr_timestamp = f'{now.year}-{now.month}-{now.day}'\n",
    "curr_path = f'./data/{curr_timestamp}-positions.xls'\n",
    "curr_dataset = pd.read_excel(curr_path, dtype=str)\n",
    "curr_dataset['市值'] = curr_dataset['市值'].astype('float')\n",
    "curr_dataset['当日盈亏'] = curr_dataset['当日盈亏'].astype('float')\n",
    "curr_dataset['日期'] = curr_dataset['证券代码'].astype('str')\n",
    "\n",
    "def update_account(path, ids):\n",
    "    # 可转债交换套利\n",
    "    account_path = path\n",
    "    account_dataset = pd.read_excel(account_path)\n",
    "    curr_strategy_df = curr_dataset[curr_dataset['证券代码'].isin(ids)]\n",
    "    # stat\n",
    "    prev_total_mv = account_dataset.iloc[-1]['总市值']\n",
    "    curr_total_mv = curr_strategy_df['市值'].sum()\n",
    "    prev_ret = account_dataset.iloc[-1]['累计盈亏']\n",
    "    today_ret = curr_strategy_df['当日盈亏'].sum()\n",
    "    curr_ret = prev_ret + today_ret\n",
    "    cash_change = curr_total_mv - (prev_total_mv + today_ret)\n",
    "    today_ratio = today_ret / prev_total_mv\n",
    "    prev_total_ratio = account_dataset.iloc[-1]['累计涨跌幅']\n",
    "    curr_total_ratio = (1 + prev_total_ratio) * (1 + today_ratio) - 1\n",
    "    net_value = 1 + curr_total_ratio\n",
    "    # new data\n",
    "    new_row = {\n",
    "        '日期': curr_timestamp,\n",
    "        '净值': net_value,\n",
    "        '总市值': curr_total_mv,\n",
    "        '当日涨跌幅': today_ratio,\n",
    "        '累计涨跌幅': curr_total_ratio,\n",
    "        '当日盈亏': today_ret,\n",
    "        '累计盈亏': curr_ret,\n",
    "        '出入金': cash_change\n",
    "    }\n",
    "    print(new_row)\n",
    "    # concat\n",
    "    account_dataset = account_dataset._append(new_row, ignore_index=True)\n",
    "    account_dataset.to_excel(path, index=False)\n",
    "\n",
    "update_account('./positions/可转债交换套利.xlsx', bond_diff_ids)\n",
    "update_account('./positions/可转债三低轮动.xlsx', bond_trans_ids)\n",
    "update_account('./positions/绩优小市值轮动.xlsx', small_stocks_ids)"
   ],
   "metadata": {
    "collapsed": false,
    "ExecuteTime": {
     "end_time": "2023-12-21T11:02:11.166147600Z",
     "start_time": "2023-12-21T11:02:11.044263800Z"
    }
   }
  },
  {
   "cell_type": "code",
   "execution_count": null,
   "outputs": [],
   "source": [],
   "metadata": {
    "collapsed": false
   }
  },
  {
   "cell_type": "markdown",
   "source": [],
   "metadata": {
    "collapsed": false
   }
  }
 ],
 "metadata": {
  "kernelspec": {
   "display_name": "Python 3",
   "language": "python",
   "name": "python3"
  },
  "language_info": {
   "codemirror_mode": {
    "name": "ipython",
    "version": 2
   },
   "file_extension": ".py",
   "mimetype": "text/x-python",
   "name": "python",
   "nbconvert_exporter": "python",
   "pygments_lexer": "ipython2",
   "version": "2.7.6"
  }
 },
 "nbformat": 4,
 "nbformat_minor": 0
}
