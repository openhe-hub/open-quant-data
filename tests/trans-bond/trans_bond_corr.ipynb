{
 "cells": [
  {
   "cell_type": "code",
   "execution_count": 53,
   "metadata": {
    "collapsed": true
   },
   "outputs": [
    {
     "name": "stdout",
     "output_type": "stream",
     "text": [
      "0.9703613387346033\n"
     ]
    }
   ],
   "source": [
    "from open_quant_data.dataset.thirdparty.akshare.AkshareDataset import AkshareDataset\n",
    "\n",
    "from datetime import date\n",
    "\n",
    "import pandas as pd\n",
    "\n",
    "dataset = AkshareDataset()\n",
    "\n",
    "high_code = 'sz127022'\n",
    "low_code = 'sz127067'\n",
    "\n",
    "dataset_high = dataset.bond_date(high_code, '', '')\n",
    "dataset_low = dataset.bond_date(low_code, '', '')\n",
    "\n",
    "dataset_high = dataset_high[dataset_high['date'] >= date(2022, 11, 1)]\n",
    "dataset_low = dataset_low[dataset_low['date'] >= date(2022, 11, 1)]\n",
    "dataset_total = pd.DataFrame({\n",
    "    'price_1': dataset_high['close'].tolist(),\n",
    "    'price_2': dataset_low['close'].tolist()\n",
    "})\n",
    "\n",
    "corr = dataset_total['price_1'].corr(dataset_total['price_2'])\n",
    "\n",
    "print(corr)"
   ]
  },
  {
   "cell_type": "code",
   "execution_count": 54,
   "outputs": [
    {
     "name": "stdout",
     "output_type": "stream",
     "text": [
      "stock_id\n",
      "000703.SZ    [127067.SZ, 127022.SZ]\n",
      "000876.SZ    [127049.SZ, 127015.SZ]\n",
      "300057.SZ    [123085.SZ, 123012.SZ]\n",
      "300567.SZ    [123025.SZ, 123176.SZ]\n",
      "300655.SZ    [123031.SZ, 123124.SZ]\n",
      "300739.SZ    [123203.SZ, 123087.SZ]\n",
      "600567.SH    [110063.SH, 110047.SH]\n",
      "601609.SH    [113068.SH, 113046.SH]\n",
      "603228.SH    [113669.SH, 113602.SH]\n",
      "603890.SH    [113667.SH, 113577.SH]\n",
      "Name: bond_id, dtype: object\n"
     ]
    }
   ],
   "source": [
    "bond_info = pd.read_csv('bond-info.csv')\n",
    "groups = bond_info.groupby('stock_id').filter(lambda x: len(x) > 1)\n",
    "result = groups.groupby('stock_id')['bond_id'].apply(list)\n",
    "print(result)"
   ],
   "metadata": {
    "collapsed": false
   }
  },
  {
   "cell_type": "code",
   "execution_count": 55,
   "outputs": [],
   "source": [
    "def convert_code(code):\n",
    "    bond_code, market_suffix = code.split('.')\n",
    "    return f\"{market_suffix.lower()}{bond_code}\""
   ],
   "metadata": {
    "collapsed": false
   }
  },
  {
   "cell_type": "code",
   "execution_count": 56,
   "outputs": [
    {
     "name": "stdout",
     "output_type": "stream",
     "text": [
      "==============================\n",
      "正股代码: 000703.SZ\n",
      "正股: 恒逸石化\n",
      "可转债代码: ['127067.SZ', '127022.SZ']\n",
      "可转债: ['恒逸转2', '恒逸转债']\n",
      "相关性系数 = 0.9685691223255325\n",
      "价格标准差 = [0.0059, 0.0053]\n",
      "价差平均值 = 2.2555, 价差标准差 = 0.5451\n",
      "==============================\n",
      "正股代码: 000876.SZ\n",
      "正股: 新希望\n",
      "可转债代码: ['127049.SZ', '127015.SZ']\n",
      "可转债: ['希望转2', '希望转债']\n",
      "相关性系数 = 0.9026223653355947\n",
      "价格标准差 = [0.0049, 0.0034]\n",
      "价差平均值 = 2.958, 价差标准差 = 2.3593\n",
      "==============================\n",
      "正股代码: 300057.SZ\n",
      "正股: 万顺新材\n",
      "可转债代码: ['123085.SZ', '123012.SZ']\n",
      "可转债: ['万顺转2', '万顺转债']\n"
     ]
    },
    {
     "name": "stderr",
     "output_type": "stream",
     "text": [
      "\n",
      "KeyboardInterrupt\n",
      "\n"
     ]
    }
   ],
   "source": [
    "import numpy as np\n",
    "\n",
    "result_df = pd.DataFrame({\n",
    "    '正股代码': [],\n",
    "    '正股': [],\n",
    "    '可转债代码': [],\n",
    "    '可转债': [],\n",
    "    '相关性系数': [],\n",
    "    '剩余流通量': [],\n",
    "    '价格波动标准差': [],\n",
    "    '价差平均数': [],\n",
    "    '价差波动标准差': []\n",
    "})\n",
    "for stock_code, bond_codes in result.items():\n",
    "    high_code = bond_codes[0]\n",
    "    low_code = bond_codes[1]\n",
    "    stock_name = bond_info[bond_info['stock_id'] == stock_code]['stock_name'].tolist()[0]\n",
    "    bond_name = bond_info[bond_info['stock_id'] == stock_code]['bond_name'].tolist()\n",
    "    bond_size = bond_info[bond_info['stock_id'] == stock_code]['left_vol'].tolist()\n",
    "\n",
    "    print(\"==============================\")\n",
    "    print(f\"正股代码: {stock_code}\")\n",
    "    print(f\"正股: {stock_name}\")\n",
    "    print(f\"可转债代码: {bond_codes}\")\n",
    "    print(f\"可转债: {bond_name}\")\n",
    "\n",
    "    dataset_high = dataset.bond_date(convert_code(high_code), '', '')\n",
    "    dataset_low = dataset.bond_date(convert_code(low_code), '', '')\n",
    "\n",
    "    dataset_high = dataset_high[dataset_high['date'] >= date(2023, 6, 1)]\n",
    "    dataset_low = dataset_low[dataset_low['date'] >= date(2023, 6, 1)]\n",
    "    if len(dataset_high) != len(dataset_low):\n",
    "        print('标的时间序列长度过短，跳过!')\n",
    "        continue\n",
    "    dataset_total = pd.DataFrame({\n",
    "        'price_1': dataset_high['close'].tolist(),\n",
    "        'price_2': dataset_low['close'].tolist()\n",
    "    })\n",
    "    # corr\n",
    "    corr = dataset_total['price_1'].corr(dataset_total['price_2'])\n",
    "    print(f\"相关性系数 = {corr}\")\n",
    "    # price volatility\n",
    "    dataset_total['log_return_1'] = np.log(dataset_total['price_1'] / dataset_total['price_1'].shift(1))\n",
    "    dataset_total['log_return_2'] = np.log(dataset_total['price_2'] / dataset_total['price_2'].shift(1))\n",
    "    daily_volatility_1 = dataset_total['log_return_1'].std()\n",
    "    daily_volatility_2 = dataset_total['log_return_2'].std()\n",
    "    daily_volatility = [round(daily_volatility_1, 4), round(daily_volatility_2, 4)]\n",
    "    print(f\"价格标准差 = {daily_volatility}\")\n",
    "    # price diff\n",
    "    dataset_total['diff'] = dataset_total['price_1'] - dataset_total['price_2']\n",
    "    diff_mean = dataset_total['diff'].mean()\n",
    "    diff_volatility = dataset_total['diff'].std()\n",
    "    print(f\"价差平均值 = {round(diff_mean, 4)}, 价差标准差 = {round(diff_volatility, 4)}\")\n",
    "\n",
    "    new_row = pd.DataFrame({\n",
    "        '正股代码': [stock_code],\n",
    "        '正股': [stock_name],\n",
    "        '可转债代码': [bond_codes],\n",
    "        '可转债': [bond_name],\n",
    "        '相关性系数': [f\"{round(corr * 100, 2)}%\"],\n",
    "        '剩余流通量': [bond_size],\n",
    "        '价格波动标准差': [daily_volatility],\n",
    "        '价差平均数': [diff_mean],\n",
    "        '价差波动标准差': [diff_volatility]\n",
    "    })\n",
    "    result_df = pd.concat([result_df, new_row], ignore_index=True)\n",
    "result_df.to_csv('result.csv')\n",
    "result_df.to_excel('result.xlsx')"
   ],
   "metadata": {
    "collapsed": false
   }
  },
  {
   "cell_type": "code",
   "execution_count": 64,
   "outputs": [
    {
     "data": {
      "text/plain": "Text(0.5, 1.0, 'Chun Qiu')"
     },
     "execution_count": 64,
     "metadata": {},
     "output_type": "execute_result"
    },
    {
     "data": {
      "text/plain": "<Figure size 640x480 with 1 Axes>",
      "image/png": "[encoded data removed]"
     },
     "metadata": {},
     "output_type": "display_data"
    }
   ],
   "source": [
    "import matplotlib.pyplot as plt\n",
    "\n",
    "high_code = 'sh113577'\n",
    "low_code = 'sh113667'\n",
    "\n",
    "dataset_high = dataset.bond_date(high_code, '', '')\n",
    "dataset_low = dataset.bond_date(low_code, '', '')\n",
    "\n",
    "dataset_high = dataset_high[dataset_high['date'] >= date(2023, 5, 1)]\n",
    "dataset_low = dataset_low[dataset_low['date'] >= date(2023, 5, 1)]\n",
    "dataset_total = pd.DataFrame({\n",
    "    'date': dataset_high['date'].tolist(),\n",
    "    'price_1': dataset_high['close'].tolist(),\n",
    "    'price_2': dataset_low['close'].tolist()\n",
    "})\n",
    "\n",
    "dataset_total['diff'] = dataset_total['price_1'] - dataset_total['price_2']\n",
    "plt.plot(dataset_total['date'], dataset_total['diff'])\n",
    "plt.title('Chun Qiu')"
   ],
   "metadata": {
    "collapsed": false
   }
  },
  {
   "cell_type": "code",
   "execution_count": null,
   "outputs": [],
   "source": [],
   "metadata": {
    "collapsed": false
   }
  }
 ],
 "metadata": {
  "kernelspec": {
   "display_name": "Python 3",
   "language": "python",
   "name": "python3"
  },
  "language_info": {
   "codemirror_mode": {
    "name": "ipython",
    "version": 2
   },
   "file_extension": ".py",
   "mimetype": "text/x-python",
   "name": "python",
   "nbconvert_exporter": "python",
   "pygments_lexer": "ipython2",
   "version": "2.7.6"
  }
 },
 "nbformat": 4,
 "nbformat_minor": 0
}
