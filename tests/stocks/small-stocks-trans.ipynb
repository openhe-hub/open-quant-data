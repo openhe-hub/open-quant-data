{
 "cells": [
  {
   "cell_type": "code",
   "execution_count": 9,
   "metadata": {
    "collapsed": true
   },
   "outputs": [],
   "source": [
    "import pandas as pd\n",
    "\n",
    "from open_quant_data.dataset.thirdparty.akshare.AkshareDataset import AkshareDataset as ak"
   ]
  },
  {
   "cell_type": "code",
   "execution_count": 23,
   "outputs": [
    {
     "data": {
      "text/plain": "        证券代码  证券简称                公司全称        上市日期\n0     600000  浦发银行      上海浦东发展银行股份有限公司  1999-11-10\n1     600004  白云机场      广州白云国际机场股份有限公司  2003-04-28\n2     600006  东风汽车          东风汽车股份有限公司  1999-07-27\n3     600007  中国国贸      中国国际贸易中心股份有限公司  1999-03-12\n4     600008  首创环保    北京首创生态环保集团股份有限公司  2000-04-27\n...      ...   ...                 ...         ...\n1682  605580  恒盛能源          恒盛能源股份有限公司  2021-08-19\n1683  605588  冠石科技        南京冠石科技股份有限公司  2021-08-12\n1684  605589  圣泉集团        济南圣泉集团股份有限公司  2021-08-10\n1685  605598  上海港湾  上海港湾基础建设(集团)股份有限公司  2021-09-17\n1686  605599  菜百股份       北京菜市口百货股份有限公司  2021-09-09\n\n[1687 rows x 4 columns]",
      "text/html": "<div>\n<style scoped>\n    .dataframe tbody tr th:only-of-type {\n        vertical-align: middle;\n    }\n\n    .dataframe tbody tr th {\n        vertical-align: top;\n    }\n\n    .dataframe thead th {\n        text-align: right;\n    }\n</style>\n<table border=\"1\" class=\"dataframe\">\n  <thead>\n    <tr style=\"text-align: right;\">\n      <th></th>\n      <th>证券代码</th>\n      <th>证券简称</th>\n      <th>公司全称</th>\n      <th>上市日期</th>\n    </tr>\n  </thead>\n  <tbody>\n    <tr>\n      <th>0</th>\n      <td>600000</td>\n      <td>浦发银行</td>\n      <td>上海浦东发展银行股份有限公司</td>\n      <td>1999-11-10</td>\n    </tr>\n    <tr>\n      <th>1</th>\n      <td>600004</td>\n      <td>白云机场</td>\n      <td>广州白云国际机场股份有限公司</td>\n      <td>2003-04-28</td>\n    </tr>\n    <tr>\n      <th>2</th>\n      <td>600006</td>\n      <td>东风汽车</td>\n      <td>东风汽车股份有限公司</td>\n      <td>1999-07-27</td>\n    </tr>\n    <tr>\n      <th>3</th>\n      <td>600007</td>\n      <td>中国国贸</td>\n      <td>中国国际贸易中心股份有限公司</td>\n      <td>1999-03-12</td>\n    </tr>\n    <tr>\n      <th>4</th>\n      <td>600008</td>\n      <td>首创环保</td>\n      <td>北京首创生态环保集团股份有限公司</td>\n      <td>2000-04-27</td>\n    </tr>\n    <tr>\n      <th>...</th>\n      <td>...</td>\n      <td>...</td>\n      <td>...</td>\n      <td>...</td>\n    </tr>\n    <tr>\n      <th>1682</th>\n      <td>605580</td>\n      <td>恒盛能源</td>\n      <td>恒盛能源股份有限公司</td>\n      <td>2021-08-19</td>\n    </tr>\n    <tr>\n      <th>1683</th>\n      <td>605588</td>\n      <td>冠石科技</td>\n      <td>南京冠石科技股份有限公司</td>\n      <td>2021-08-12</td>\n    </tr>\n    <tr>\n      <th>1684</th>\n      <td>605589</td>\n      <td>圣泉集团</td>\n      <td>济南圣泉集团股份有限公司</td>\n      <td>2021-08-10</td>\n    </tr>\n    <tr>\n      <th>1685</th>\n      <td>605598</td>\n      <td>上海港湾</td>\n      <td>上海港湾基础建设(集团)股份有限公司</td>\n      <td>2021-09-17</td>\n    </tr>\n    <tr>\n      <th>1686</th>\n      <td>605599</td>\n      <td>菜百股份</td>\n      <td>北京菜市口百货股份有限公司</td>\n      <td>2021-09-09</td>\n    </tr>\n  </tbody>\n</table>\n<p>1687 rows × 4 columns</p>\n</div>"
     },
     "execution_count": 23,
     "metadata": {},
     "output_type": "execute_result"
    }
   ],
   "source": [
    "sh_names = ak.sh_stock_names()\n",
    "# sh_names.to_excel('sh_names.xlsx')\n",
    "sh_names"
   ],
   "metadata": {
    "collapsed": false
   }
  },
  {
   "cell_type": "code",
   "execution_count": 24,
   "outputs": [
    {
     "data": {
      "text/plain": "       板块    A股代码   A股简称      A股上市日期           A股总股本          A股流通股本    所属行业\n0      主板  000001   平安银行  1991-04-03  19,405,918,198  19,405,546,950   J 金融业\n1      主板  000002  万  科Ａ  1991-01-29   9,724,196,533   9,716,577,665   K 房地产\n2      主板  000004   国华网安  1990-12-01     132,380,282     126,288,093  I 信息技术\n3      主板  000005   ST星源  1990-12-10   1,058,536,842   1,057,875,742  N 公共环保\n4      主板  000006   深振业Ａ  1992-04-27   1,349,995,046   1,349,987,396   K 房地产\n...   ...     ...    ...         ...             ...             ...     ...\n2824  创业板  301550   斯菱股份  2023-09-15     110,000,000      26,081,889   C 制造业\n2825  创业板  301555   惠柏新材  2023-10-31      92,266,700      21,876,227   C 制造业\n2826  创业板  301558   三态股份  2023-09-28     788,851,223     111,231,855  F 批发零售\n2827  创业板  301559   中集环科  2023-10-11     600,000,000      84,506,418   C 制造业\n2828  创业板  301568   C思泰克  2023-11-28     103,258,400      24,487,502   C 制造业\n\n[2829 rows x 7 columns]",
      "text/html": "<div>\n<style scoped>\n    .dataframe tbody tr th:only-of-type {\n        vertical-align: middle;\n    }\n\n    .dataframe tbody tr th {\n        vertical-align: top;\n    }\n\n    .dataframe thead th {\n        text-align: right;\n    }\n</style>\n<table border=\"1\" class=\"dataframe\">\n  <thead>\n    <tr style=\"text-align: right;\">\n      <th></th>\n      <th>板块</th>\n      <th>A股代码</th>\n      <th>A股简称</th>\n      <th>A股上市日期</th>\n      <th>A股总股本</th>\n      <th>A股流通股本</th>\n      <th>所属行业</th>\n    </tr>\n  </thead>\n  <tbody>\n    <tr>\n      <th>0</th>\n      <td>主板</td>\n      <td>000001</td>\n      <td>平安银行</td>\n      <td>1991-04-03</td>\n      <td>19,405,918,198</td>\n      <td>19,405,546,950</td>\n      <td>J 金融业</td>\n    </tr>\n    <tr>\n      <th>1</th>\n      <td>主板</td>\n      <td>000002</td>\n      <td>万  科Ａ</td>\n      <td>1991-01-29</td>\n      <td>9,724,196,533</td>\n      <td>9,716,577,665</td>\n      <td>K 房地产</td>\n    </tr>\n    <tr>\n      <th>2</th>\n      <td>主板</td>\n      <td>000004</td>\n      <td>国华网安</td>\n      <td>1990-12-01</td>\n      <td>132,380,282</td>\n      <td>126,288,093</td>\n      <td>I 信息技术</td>\n    </tr>\n    <tr>\n      <th>3</th>\n      <td>主板</td>\n      <td>000005</td>\n      <td>ST星源</td>\n      <td>1990-12-10</td>\n      <td>1,058,536,842</td>\n      <td>1,057,875,742</td>\n      <td>N 公共环保</td>\n    </tr>\n    <tr>\n      <th>4</th>\n      <td>主板</td>\n      <td>000006</td>\n      <td>深振业Ａ</td>\n      <td>1992-04-27</td>\n      <td>1,349,995,046</td>\n      <td>1,349,987,396</td>\n      <td>K 房地产</td>\n    </tr>\n    <tr>\n      <th>...</th>\n      <td>...</td>\n      <td>...</td>\n      <td>...</td>\n      <td>...</td>\n      <td>...</td>\n      <td>...</td>\n      <td>...</td>\n    </tr>\n    <tr>\n      <th>2824</th>\n      <td>创业板</td>\n      <td>301550</td>\n      <td>斯菱股份</td>\n      <td>2023-09-15</td>\n      <td>110,000,000</td>\n      <td>26,081,889</td>\n      <td>C 制造业</td>\n    </tr>\n    <tr>\n      <th>2825</th>\n      <td>创业板</td>\n      <td>301555</td>\n      <td>惠柏新材</td>\n      <td>2023-10-31</td>\n      <td>92,266,700</td>\n      <td>21,876,227</td>\n      <td>C 制造业</td>\n    </tr>\n    <tr>\n      <th>2826</th>\n      <td>创业板</td>\n      <td>301558</td>\n      <td>三态股份</td>\n      <td>2023-09-28</td>\n      <td>788,851,223</td>\n      <td>111,231,855</td>\n      <td>F 批发零售</td>\n    </tr>\n    <tr>\n      <th>2827</th>\n      <td>创业板</td>\n      <td>301559</td>\n      <td>中集环科</td>\n      <td>2023-10-11</td>\n      <td>600,000,000</td>\n      <td>84,506,418</td>\n      <td>C 制造业</td>\n    </tr>\n    <tr>\n      <th>2828</th>\n      <td>创业板</td>\n      <td>301568</td>\n      <td>C思泰克</td>\n      <td>2023-11-28</td>\n      <td>103,258,400</td>\n      <td>24,487,502</td>\n      <td>C 制造业</td>\n    </tr>\n  </tbody>\n</table>\n<p>2829 rows × 7 columns</p>\n</div>"
     },
     "execution_count": 24,
     "metadata": {},
     "output_type": "execute_result"
    }
   ],
   "source": [
    "sz_names = ak.sz_stock_names()\n",
    "sz_names"
   ],
   "metadata": {
    "collapsed": false
   }
  },
  {
   "cell_type": "code",
   "execution_count": 25,
   "outputs": [
    {
     "data": {
      "text/plain": "     stock_code stock_name  begin_date\n0        600000       浦发银行  1999-11-10\n1        600004       白云机场  2003-04-28\n2        600006       东风汽车  1999-07-27\n3        600007       中国国贸  1999-03-12\n4        600008       首创环保  2000-04-27\n...         ...        ...         ...\n2824     301550       斯菱股份  2023-09-15\n2825     301555       惠柏新材  2023-10-31\n2826     301558       三态股份  2023-09-28\n2827     301559       中集环科  2023-10-11\n2828     301568       C思泰克  2023-11-28\n\n[4516 rows x 3 columns]",
      "text/html": "<div>\n<style scoped>\n    .dataframe tbody tr th:only-of-type {\n        vertical-align: middle;\n    }\n\n    .dataframe tbody tr th {\n        vertical-align: top;\n    }\n\n    .dataframe thead th {\n        text-align: right;\n    }\n</style>\n<table border=\"1\" class=\"dataframe\">\n  <thead>\n    <tr style=\"text-align: right;\">\n      <th></th>\n      <th>stock_code</th>\n      <th>stock_name</th>\n      <th>begin_date</th>\n    </tr>\n  </thead>\n  <tbody>\n    <tr>\n      <th>0</th>\n      <td>600000</td>\n      <td>浦发银行</td>\n      <td>1999-11-10</td>\n    </tr>\n    <tr>\n      <th>1</th>\n      <td>600004</td>\n      <td>白云机场</td>\n      <td>2003-04-28</td>\n    </tr>\n    <tr>\n      <th>2</th>\n      <td>600006</td>\n      <td>东风汽车</td>\n      <td>1999-07-27</td>\n    </tr>\n    <tr>\n      <th>3</th>\n      <td>600007</td>\n      <td>中国国贸</td>\n      <td>1999-03-12</td>\n    </tr>\n    <tr>\n      <th>4</th>\n      <td>600008</td>\n      <td>首创环保</td>\n      <td>2000-04-27</td>\n    </tr>\n    <tr>\n      <th>...</th>\n      <td>...</td>\n      <td>...</td>\n      <td>...</td>\n    </tr>\n    <tr>\n      <th>2824</th>\n      <td>301550</td>\n      <td>斯菱股份</td>\n      <td>2023-09-15</td>\n    </tr>\n    <tr>\n      <th>2825</th>\n      <td>301555</td>\n      <td>惠柏新材</td>\n      <td>2023-10-31</td>\n    </tr>\n    <tr>\n      <th>2826</th>\n      <td>301558</td>\n      <td>三态股份</td>\n      <td>2023-09-28</td>\n    </tr>\n    <tr>\n      <th>2827</th>\n      <td>301559</td>\n      <td>中集环科</td>\n      <td>2023-10-11</td>\n    </tr>\n    <tr>\n      <th>2828</th>\n      <td>301568</td>\n      <td>C思泰克</td>\n      <td>2023-11-28</td>\n    </tr>\n  </tbody>\n</table>\n<p>4516 rows × 3 columns</p>\n</div>"
     },
     "execution_count": 25,
     "metadata": {},
     "output_type": "execute_result"
    }
   ],
   "source": [
    "ak.a_stock_names()"
   ],
   "metadata": {
    "collapsed": false
   }
  },
  {
   "cell_type": "code",
   "execution_count": 31,
   "outputs": [],
   "source": [
    "from datetime import datetime, date\n",
    "\n",
    "dataset = ak.stock_basic_finance_index('000001')\n",
    "dataset.rename(columns={'trade_date': 'date'}, inplace=True)\n",
    "dataset = dataset[dataset['date'] >= date(2022, 1, 1)]\n",
    "dataset.to_excel('000001-2022-fin.xlsx')"
   ],
   "metadata": {
    "collapsed": false
   }
  },
  {
   "cell_type": "code",
   "execution_count": 32,
   "outputs": [],
   "source": [
    "dataset = ak.stock_date('sh000001')\n",
    "dataset = dataset[dataset['date'] >= datetime(2010, 1, 1)]\n",
    "dataset.to_excel('000001-2022-price.xlsx')"
   ],
   "metadata": {
    "collapsed": false
   }
  },
  {
   "cell_type": "code",
   "execution_count": 10,
   "outputs": [],
   "source": [
    "from datetime import datetime, date\n",
    "import pandas as pd\n",
    "\n",
    "\n",
    "def stock_price_finance(stock_id: str, start_date: datetime) -> pd.DataFrame:\n",
    "    # transform prefix stock id\n",
    "    prefix_stock_id = ''\n",
    "    if stock_id.startswith('6'):\n",
    "        prefix_stock_id = 'sh' + stock_id\n",
    "    elif stock_id.startswith('0') or stock_id.startswith('3'):\n",
    "        prefix_stock_id = 'sz' + stock_id\n",
    "    price_dataset = ak.stock_date(prefix_stock_id)\n",
    "    finance_dataset = ak.stock_basic_finance_index(stock_id)\n",
    "    # transform timestamp\n",
    "    start_timestamp = start_date.strftime('%Y-%m-%d')\n",
    "    fin_start_date = finance_dataset['trade_date'].tolist()[0]\n",
    "    price_start_date = price_dataset['date'].tolist()[0].date()\n",
    "    result_start_date = start_date.date()\n",
    "    if result_start_date < fin_start_date:\n",
    "        result_start_date = fin_start_date\n",
    "    if result_start_date < price_start_date:\n",
    "        result_start_date = price_start_date\n",
    "    # pre-handle\n",
    "    finance_dataset.rename(columns={'trade_date': 'date'}, inplace=True)\n",
    "    finance_dataset = finance_dataset[finance_dataset['date'] >= result_start_date]\n",
    "    finance_dataset = finance_dataset.fillna(value=0)\n",
    "    price_dataset = price_dataset[\n",
    "        price_dataset['date'] >= datetime(result_start_date.year, result_start_date.month, result_start_date.day)]\n",
    "    price_dataset = price_dataset.fillna(value=0)\n",
    "    # transform index\n",
    "    finance_dataset['date'] = pd.to_datetime(finance_dataset['date'], format=\"%Y-%m-%d\")\n",
    "    price_dataset['date'] = pd.to_datetime(price_dataset['date'], format=\"%Y-%m-%d\")\n",
    "    result_dataset = pd.merge(price_dataset, finance_dataset, how='inner', on='date')\n",
    "\n",
    "    result_dataset['ret'] = result_dataset['close'].pct_change(1)\n",
    "    result_dataset.insert(loc=2, column='stock_id', value=stock_id)\n",
    "    result_dataset = result_dataset.fillna(value=0)\n",
    "    return result_dataset\n",
    "\n",
    "# result_dataset = stock_price_finance('600000', datetime(2010, 1, 1))\n",
    "# result_dataset.to_excel('600000-total.xlsx')\n",
    "# result_dataset"
   ],
   "metadata": {
    "collapsed": false
   }
  },
  {
   "cell_type": "code",
   "execution_count": 4,
   "outputs": [
    {
     "name": "stdout",
     "output_type": "stream",
     "text": [
      "finish 301559, 4515 / 4516\n"
     ]
    },
    {
     "ename": "ValueError",
     "evalue": "数据获取失败, 请检查是否输入正确的股票代码",
     "output_type": "error",
     "traceback": [
      "\u001B[1;31m---------------------------------------------------------------------------\u001B[0m",
      "\u001B[1;31mValueError\u001B[0m                                Traceback (most recent call last)",
      "Cell \u001B[1;32mIn[4], line 6\u001B[0m\n\u001B[0;32m      4\u001B[0m \u001B[38;5;28;01mfor\u001B[39;00m i \u001B[38;5;129;01min\u001B[39;00m \u001B[38;5;28mrange\u001B[39m(\u001B[38;5;241m4514\u001B[39m, length):\n\u001B[0;32m      5\u001B[0m     code \u001B[38;5;241m=\u001B[39m names[\u001B[38;5;124m'\u001B[39m\u001B[38;5;124mstock_code\u001B[39m\u001B[38;5;124m'\u001B[39m]\u001B[38;5;241m.\u001B[39mtolist()[i]\n\u001B[1;32m----> 6\u001B[0m     result_dataset \u001B[38;5;241m=\u001B[39m \u001B[43mstock_price_finance\u001B[49m\u001B[43m(\u001B[49m\u001B[43mcode\u001B[49m\u001B[43m,\u001B[49m\u001B[43m \u001B[49m\u001B[43mdatetime\u001B[49m\u001B[43m(\u001B[49m\u001B[38;5;241;43m2010\u001B[39;49m\u001B[43m,\u001B[49m\u001B[43m \u001B[49m\u001B[38;5;241;43m1\u001B[39;49m\u001B[43m,\u001B[49m\u001B[43m \u001B[49m\u001B[38;5;241;43m1\u001B[39;49m\u001B[43m)\u001B[49m\u001B[43m)\u001B[49m\n\u001B[0;32m      7\u001B[0m     result_dataset\u001B[38;5;241m.\u001B[39mto_excel(\u001B[38;5;124mf\u001B[39m\u001B[38;5;124m'\u001B[39m\u001B[38;5;124m./output/\u001B[39m\u001B[38;5;132;01m{\u001B[39;00mcode\u001B[38;5;132;01m}\u001B[39;00m\u001B[38;5;124m.xlsx\u001B[39m\u001B[38;5;124m'\u001B[39m)\n\u001B[0;32m      8\u001B[0m     \u001B[38;5;28mprint\u001B[39m(\u001B[38;5;124mf\u001B[39m\u001B[38;5;124m'\u001B[39m\u001B[38;5;124mfinish \u001B[39m\u001B[38;5;132;01m{\u001B[39;00mcode\u001B[38;5;132;01m}\u001B[39;00m\u001B[38;5;124m, \u001B[39m\u001B[38;5;132;01m{\u001B[39;00mcnt\u001B[38;5;132;01m}\u001B[39;00m\u001B[38;5;124m / \u001B[39m\u001B[38;5;132;01m{\u001B[39;00mlength\u001B[38;5;132;01m}\u001B[39;00m\u001B[38;5;124m'\u001B[39m)\n",
      "Cell \u001B[1;32mIn[2], line 13\u001B[0m, in \u001B[0;36mstock_price_finance\u001B[1;34m(stock_id, start_date)\u001B[0m\n\u001B[0;32m     11\u001B[0m     prefix_stock_id \u001B[38;5;241m=\u001B[39m \u001B[38;5;124m'\u001B[39m\u001B[38;5;124msz\u001B[39m\u001B[38;5;124m'\u001B[39m \u001B[38;5;241m+\u001B[39m stock_id\n\u001B[0;32m     12\u001B[0m price_dataset \u001B[38;5;241m=\u001B[39m ak\u001B[38;5;241m.\u001B[39mstock_date(prefix_stock_id)\n\u001B[1;32m---> 13\u001B[0m finance_dataset \u001B[38;5;241m=\u001B[39m \u001B[43mak\u001B[49m\u001B[38;5;241;43m.\u001B[39;49m\u001B[43mstock_basic_finance_index\u001B[49m\u001B[43m(\u001B[49m\u001B[43mstock_id\u001B[49m\u001B[43m)\u001B[49m\n\u001B[0;32m     14\u001B[0m \u001B[38;5;66;03m# transform timestamp\u001B[39;00m\n\u001B[0;32m     15\u001B[0m start_timestamp \u001B[38;5;241m=\u001B[39m start_date\u001B[38;5;241m.\u001B[39mstrftime(\u001B[38;5;124m'\u001B[39m\u001B[38;5;124m%\u001B[39m\u001B[38;5;124mY-\u001B[39m\u001B[38;5;124m%\u001B[39m\u001B[38;5;124mm-\u001B[39m\u001B[38;5;132;01m%d\u001B[39;00m\u001B[38;5;124m'\u001B[39m)\n",
      "File \u001B[1;32mD:\\program\\python\\my-quant-dev\\libs\\open-quant-data\\open_quant_data\\dataset\\thirdparty\\akshare\\AkshareDataset.py:83\u001B[0m, in \u001B[0;36mAkshareDataset.stock_basic_finance_index\u001B[1;34m(stock_id)\u001B[0m\n\u001B[0;32m     81\u001B[0m \u001B[38;5;129m@staticmethod\u001B[39m\n\u001B[0;32m     82\u001B[0m \u001B[38;5;28;01mdef\u001B[39;00m \u001B[38;5;21mstock_basic_finance_index\u001B[39m(stock_id: \u001B[38;5;28mstr\u001B[39m) \u001B[38;5;241m-\u001B[39m\u001B[38;5;241m>\u001B[39m pd\u001B[38;5;241m.\u001B[39mDataFrame:\n\u001B[1;32m---> 83\u001B[0m     data \u001B[38;5;241m=\u001B[39m \u001B[43mak\u001B[49m\u001B[38;5;241;43m.\u001B[39;49m\u001B[43mstock_a_indicator_lg\u001B[49m\u001B[43m(\u001B[49m\u001B[43mstock_id\u001B[49m\u001B[43m)\u001B[49m\n\u001B[0;32m     84\u001B[0m     \u001B[38;5;28;01mreturn\u001B[39;00m data\n",
      "File \u001B[1;32mD:\\software\\anaconda\\envs\\open-quant-data\\lib\\site-packages\\akshare\\stock_feature\\stock_a_indicator.py:86\u001B[0m, in \u001B[0;36mstock_a_indicator_lg\u001B[1;34m(symbol)\u001B[0m\n\u001B[0;32m     84\u001B[0m temp_df\u001B[38;5;241m.\u001B[39msort_values([\u001B[38;5;124m\"\u001B[39m\u001B[38;5;124mtrade_date\u001B[39m\u001B[38;5;124m\"\u001B[39m], inplace\u001B[38;5;241m=\u001B[39m\u001B[38;5;28;01mTrue\u001B[39;00m, ignore_index\u001B[38;5;241m=\u001B[39m\u001B[38;5;28;01mTrue\u001B[39;00m)\n\u001B[0;32m     85\u001B[0m \u001B[38;5;28;01mif\u001B[39;00m \u001B[38;5;28mlen\u001B[39m(\u001B[38;5;28mset\u001B[39m(temp_df[\u001B[38;5;124m'\u001B[39m\u001B[38;5;124mtrade_date\u001B[39m\u001B[38;5;124m'\u001B[39m])) \u001B[38;5;241m<\u001B[39m \u001B[38;5;241m10\u001B[39m:\n\u001B[1;32m---> 86\u001B[0m     \u001B[38;5;28;01mraise\u001B[39;00m \u001B[38;5;167;01mValueError\u001B[39;00m(\u001B[38;5;124m\"\u001B[39m\u001B[38;5;124m数据获取失败, 请检查是否输入正确的股票代码\u001B[39m\u001B[38;5;124m\"\u001B[39m)\n\u001B[0;32m     87\u001B[0m \u001B[38;5;28;01mreturn\u001B[39;00m temp_df\n",
      "\u001B[1;31mValueError\u001B[0m: 数据获取失败, 请检查是否输入正确的股票代码"
     ]
    }
   ],
   "source": [
    "names = ak.a_stock_names()\n",
    "cnt = 4515\n",
    "length = len(names['stock_code'].tolist())\n",
    "for i in range(4514, length):\n",
    "    code = names['stock_code'].tolist()[i]\n",
    "    result_dataset = stock_price_finance(code, datetime(2010, 1, 1))\n",
    "    result_dataset.to_excel(f'./output/{code}.xlsx')\n",
    "    print(f'finish {code}, {cnt} / {length}')\n",
    "    cnt += 1"
   ],
   "metadata": {
    "collapsed": false
   }
  },
  {
   "cell_type": "code",
   "execution_count": 15,
   "outputs": [
    {
     "name": "stdout",
     "output_type": "stream",
     "text": [
      "finish 600000, 0 / 4516\n",
      "finish 600004, 1 / 4516\n",
      "finish 600006, 2 / 4516\n",
      "finish 600007, 3 / 4516\n",
      "finish 600008, 4 / 4516\n",
      "finish 600009, 5 / 4516\n",
      "finish 600010, 6 / 4516\n",
      "finish 600011, 7 / 4516\n",
      "finish 600012, 8 / 4516\n",
      "finish 600015, 9 / 4516\n",
      "finish 600016, 10 / 4516\n",
      "finish 600017, 11 / 4516\n",
      "finish 600018, 12 / 4516\n",
      "finish 600019, 13 / 4516\n",
      "finish 600020, 14 / 4516\n",
      "finish 600021, 15 / 4516\n",
      "finish 600022, 16 / 4516\n",
      "finish 600023, 17 / 4516\n",
      "finish 600025, 18 / 4516\n",
      "finish 600026, 19 / 4516\n",
      "finish 600027, 20 / 4516\n",
      "finish 600028, 21 / 4516\n",
      "finish 600029, 22 / 4516\n",
      "finish 600030, 23 / 4516\n",
      "finish 600031, 24 / 4516\n",
      "finish 600032, 25 / 4516\n",
      "finish 600033, 26 / 4516\n",
      "finish 600035, 27 / 4516\n",
      "finish 600036, 28 / 4516\n",
      "finish 600037, 29 / 4516\n",
      "finish 600038, 30 / 4516\n",
      "finish 600039, 31 / 4516\n",
      "finish 600048, 32 / 4516\n",
      "finish 600050, 33 / 4516\n",
      "finish 600051, 34 / 4516\n",
      "finish 600052, 35 / 4516\n",
      "finish 600053, 36 / 4516\n",
      "finish 600054, 37 / 4516\n",
      "finish 600055, 38 / 4516\n",
      "finish 600056, 39 / 4516\n",
      "finish 600057, 40 / 4516\n",
      "finish 600058, 41 / 4516\n",
      "finish 600059, 42 / 4516\n",
      "finish 600060, 43 / 4516\n",
      "finish 600061, 44 / 4516\n",
      "finish 600062, 45 / 4516\n",
      "finish 600063, 46 / 4516\n",
      "finish 600064, 47 / 4516\n",
      "finish 600066, 48 / 4516\n",
      "finish 600067, 49 / 4516\n",
      "finish 600070, 50 / 4516\n",
      "finish 600071, 51 / 4516\n",
      "finish 600072, 52 / 4516\n",
      "finish 600073, 53 / 4516\n",
      "finish 600075, 54 / 4516\n",
      "finish 600076, 55 / 4516\n",
      "finish 600078, 56 / 4516\n",
      "finish 600079, 57 / 4516\n",
      "finish 600080, 58 / 4516\n",
      "finish 600081, 59 / 4516\n",
      "finish 600082, 60 / 4516\n",
      "finish 600083, 61 / 4516\n",
      "finish 600084, 62 / 4516\n",
      "finish 600085, 63 / 4516\n",
      "finish 600088, 64 / 4516\n"
     ]
    },
    {
     "name": "stderr",
     "output_type": "stream",
     "text": [
      "\n",
      "KeyboardInterrupt\n",
      "\n"
     ]
    }
   ],
   "source": [
    "def latest_stock_price_finance() -> pd.DataFrame:\n",
    "    names = ak.a_stock_names()\n",
    "    cnt = 0\n",
    "    length = len(names['stock_code'].tolist())\n",
    "    combined_df = pd.DataFrame()\n",
    "    for i in range(0, length):\n",
    "        code = names['stock_code'].tolist()[i]\n",
    "        result_dataset = stock_price_finance(code, datetime(2023, 11, 30))\n",
    "        combined_df = pd.concat([combined_df, result_dataset.iloc[-1:]])\n",
    "        print(f'finish {code}, {cnt} / {length}')\n",
    "        cnt += 1\n",
    "    return combined_df\n",
    "\n",
    "dataset = latest_stock_price_finance()\n",
    "dataset"
   ],
   "metadata": {
    "collapsed": false
   }
  },
  {
   "cell_type": "code",
   "execution_count": null,
   "outputs": [],
   "source": [],
   "metadata": {
    "collapsed": false
   }
  }
 ],
 "metadata": {
  "kernelspec": {
   "display_name": "Python 3",
   "language": "python",
   "name": "python3"
  },
  "language_info": {
   "codemirror_mode": {
    "name": "ipython",
    "version": 2
   },
   "file_extension": ".py",
   "mimetype": "text/x-python",
   "name": "python",
   "nbconvert_exporter": "python",
   "pygments_lexer": "ipython2",
   "version": "2.7.6"
  }
 },
 "nbformat": 4,
 "nbformat_minor": 0
}
