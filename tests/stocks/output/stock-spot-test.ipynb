{
 "cells": [
  {
   "cell_type": "code",
   "execution_count": 2,
   "metadata": {
    "collapsed": true
   },
   "outputs": [
    {
     "data": {
      "text/plain": "        序号      代码      名称   最新价   涨跌幅   涨跌额      成交量         成交额    振幅    最高  \\\n5435  5436  832145    恒合股份  5.69 -4.53 -0.27  11859.0  6871901.97  8.05  6.06   \n5398  5399  836149    旭杰科技  5.46 -3.87 -0.22  12697.0  7135206.50  9.68  5.95   \n5235  5236  837046    亿能电力  6.15 -2.69 -0.17  14296.0  9023716.83  5.54  6.50   \n5498  5499  836871     派特尔  6.07 -6.04 -0.39  12709.0  8041460.01  9.29  6.65   \n5406  5407  834765     美之高  6.61 -3.92 -0.27   5131.0  3542330.13  7.70  7.13   \n...    ...     ...     ...   ...   ...   ...      ...         ...   ...   ...   \n2796  2797  000024    招商地产   NaN   NaN   NaN      NaN         NaN   NaN   NaN   \n2797  2798  000018    神城A退   NaN   NaN   NaN      NaN         NaN   NaN   NaN   \n2798  2799  000015   PT中浩A   NaN   NaN   NaN      NaN         NaN   NaN   NaN   \n2799  2800  000013  *ST石化A   NaN   NaN   NaN      NaN         NaN   NaN   NaN   \n2800  2801  000003   PT金田A   NaN   NaN   NaN      NaN         NaN   NaN   NaN   \n\n      ...    量比   换手率  市盈率-动态   市净率          总市值         流通市值    涨速  5分钟涨跌  \\\n5435  ...  0.50  2.65  -37.02  1.45  401429500.0  255067053.0  1.43   1.61   \n5398  ...  0.34  2.65   48.58  2.28  402718680.0  261397178.0  0.37   0.00   \n5235  ...  0.53  4.46   28.31  1.91  444337500.0  197273273.0 -0.49  -0.16   \n5498  ...  0.44  3.21   21.13  1.89  447587329.0  240384698.0 -0.33   0.00   \n5406  ...  0.50  1.17   24.11  1.41  460142221.0  290822120.0 -2.65  -1.93   \n...   ...   ...   ...     ...   ...          ...          ...   ...    ...   \n2796  ...   NaN  0.00     NaN   NaN          NaN          NaN   NaN    NaN   \n2797  ...   NaN  0.00     NaN   NaN          NaN          NaN   NaN    NaN   \n2798  ...   NaN  0.00     NaN   NaN          NaN          NaN   NaN    NaN   \n2799  ...   NaN  0.00     NaN   NaN          NaN          NaN   NaN    NaN   \n2800  ...   NaN  0.00     NaN   NaN          NaN          NaN   NaN    NaN   \n\n      60日涨跌幅  年初至今涨跌幅  \n5435   22.89    16.60  \n5398   45.99    40.00  \n5235   23.99    23.99  \n5498   36.71    28.06  \n5406   19.96    15.16  \n...      ...      ...  \n2796    0.00     0.00  \n2797    0.00     0.00  \n2798    0.00     0.00  \n2799    0.00     0.00  \n2800    0.00     0.00  \n\n[5559 rows x 23 columns]",
      "text/html": "<div>\n<style scoped>\n    .dataframe tbody tr th:only-of-type {\n        vertical-align: middle;\n    }\n\n    .dataframe tbody tr th {\n        vertical-align: top;\n    }\n\n    .dataframe thead th {\n        text-align: right;\n    }\n</style>\n<table border=\"1\" class=\"dataframe\">\n  <thead>\n    <tr style=\"text-align: right;\">\n      <th></th>\n      <th>序号</th>\n      <th>代码</th>\n      <th>名称</th>\n      <th>最新价</th>\n      <th>涨跌幅</th>\n      <th>涨跌额</th>\n      <th>成交量</th>\n      <th>成交额</th>\n      <th>振幅</th>\n      <th>最高</th>\n      <th>...</th>\n      <th>量比</th>\n      <th>换手率</th>\n      <th>市盈率-动态</th>\n      <th>市净率</th>\n      <th>总市值</th>\n      <th>流通市值</th>\n      <th>涨速</th>\n      <th>5分钟涨跌</th>\n      <th>60日涨跌幅</th>\n      <th>年初至今涨跌幅</th>\n    </tr>\n  </thead>\n  <tbody>\n    <tr>\n      <th>5435</th>\n      <td>5436</td>\n      <td>832145</td>\n      <td>恒合股份</td>\n      <td>5.69</td>\n      <td>-4.53</td>\n      <td>-0.27</td>\n      <td>11859.0</td>\n      <td>6871901.97</td>\n      <td>8.05</td>\n      <td>6.06</td>\n      <td>...</td>\n      <td>0.50</td>\n      <td>2.65</td>\n      <td>-37.02</td>\n      <td>1.45</td>\n      <td>401429500.0</td>\n      <td>255067053.0</td>\n      <td>1.43</td>\n      <td>1.61</td>\n      <td>22.89</td>\n      <td>16.60</td>\n    </tr>\n    <tr>\n      <th>5398</th>\n      <td>5399</td>\n      <td>836149</td>\n      <td>旭杰科技</td>\n      <td>5.46</td>\n      <td>-3.87</td>\n      <td>-0.22</td>\n      <td>12697.0</td>\n      <td>7135206.50</td>\n      <td>9.68</td>\n      <td>5.95</td>\n      <td>...</td>\n      <td>0.34</td>\n      <td>2.65</td>\n      <td>48.58</td>\n      <td>2.28</td>\n      <td>402718680.0</td>\n      <td>261397178.0</td>\n      <td>0.37</td>\n      <td>0.00</td>\n      <td>45.99</td>\n      <td>40.00</td>\n    </tr>\n    <tr>\n      <th>5235</th>\n      <td>5236</td>\n      <td>837046</td>\n      <td>亿能电力</td>\n      <td>6.15</td>\n      <td>-2.69</td>\n      <td>-0.17</td>\n      <td>14296.0</td>\n      <td>9023716.83</td>\n      <td>5.54</td>\n      <td>6.50</td>\n      <td>...</td>\n      <td>0.53</td>\n      <td>4.46</td>\n      <td>28.31</td>\n      <td>1.91</td>\n      <td>444337500.0</td>\n      <td>197273273.0</td>\n      <td>-0.49</td>\n      <td>-0.16</td>\n      <td>23.99</td>\n      <td>23.99</td>\n    </tr>\n    <tr>\n      <th>5498</th>\n      <td>5499</td>\n      <td>836871</td>\n      <td>派特尔</td>\n      <td>6.07</td>\n      <td>-6.04</td>\n      <td>-0.39</td>\n      <td>12709.0</td>\n      <td>8041460.01</td>\n      <td>9.29</td>\n      <td>6.65</td>\n      <td>...</td>\n      <td>0.44</td>\n      <td>3.21</td>\n      <td>21.13</td>\n      <td>1.89</td>\n      <td>447587329.0</td>\n      <td>240384698.0</td>\n      <td>-0.33</td>\n      <td>0.00</td>\n      <td>36.71</td>\n      <td>28.06</td>\n    </tr>\n    <tr>\n      <th>5406</th>\n      <td>5407</td>\n      <td>834765</td>\n      <td>美之高</td>\n      <td>6.61</td>\n      <td>-3.92</td>\n      <td>-0.27</td>\n      <td>5131.0</td>\n      <td>3542330.13</td>\n      <td>7.70</td>\n      <td>7.13</td>\n      <td>...</td>\n      <td>0.50</td>\n      <td>1.17</td>\n      <td>24.11</td>\n      <td>1.41</td>\n      <td>460142221.0</td>\n      <td>290822120.0</td>\n      <td>-2.65</td>\n      <td>-1.93</td>\n      <td>19.96</td>\n      <td>15.16</td>\n    </tr>\n    <tr>\n      <th>...</th>\n      <td>...</td>\n      <td>...</td>\n      <td>...</td>\n      <td>...</td>\n      <td>...</td>\n      <td>...</td>\n      <td>...</td>\n      <td>...</td>\n      <td>...</td>\n      <td>...</td>\n      <td>...</td>\n      <td>...</td>\n      <td>...</td>\n      <td>...</td>\n      <td>...</td>\n      <td>...</td>\n      <td>...</td>\n      <td>...</td>\n      <td>...</td>\n      <td>...</td>\n      <td>...</td>\n    </tr>\n    <tr>\n      <th>2796</th>\n      <td>2797</td>\n      <td>000024</td>\n      <td>招商地产</td>\n      <td>NaN</td>\n      <td>NaN</td>\n      <td>NaN</td>\n      <td>NaN</td>\n      <td>NaN</td>\n      <td>NaN</td>\n      <td>NaN</td>\n      <td>...</td>\n      <td>NaN</td>\n      <td>0.00</td>\n      <td>NaN</td>\n      <td>NaN</td>\n      <td>NaN</td>\n      <td>NaN</td>\n      <td>NaN</td>\n      <td>NaN</td>\n      <td>0.00</td>\n      <td>0.00</td>\n    </tr>\n    <tr>\n      <th>2797</th>\n      <td>2798</td>\n      <td>000018</td>\n      <td>神城A退</td>\n      <td>NaN</td>\n      <td>NaN</td>\n      <td>NaN</td>\n      <td>NaN</td>\n      <td>NaN</td>\n      <td>NaN</td>\n      <td>NaN</td>\n      <td>...</td>\n      <td>NaN</td>\n      <td>0.00</td>\n      <td>NaN</td>\n      <td>NaN</td>\n      <td>NaN</td>\n      <td>NaN</td>\n      <td>NaN</td>\n      <td>NaN</td>\n      <td>0.00</td>\n      <td>0.00</td>\n    </tr>\n    <tr>\n      <th>2798</th>\n      <td>2799</td>\n      <td>000015</td>\n      <td>PT中浩A</td>\n      <td>NaN</td>\n      <td>NaN</td>\n      <td>NaN</td>\n      <td>NaN</td>\n      <td>NaN</td>\n      <td>NaN</td>\n      <td>NaN</td>\n      <td>...</td>\n      <td>NaN</td>\n      <td>0.00</td>\n      <td>NaN</td>\n      <td>NaN</td>\n      <td>NaN</td>\n      <td>NaN</td>\n      <td>NaN</td>\n      <td>NaN</td>\n      <td>0.00</td>\n      <td>0.00</td>\n    </tr>\n    <tr>\n      <th>2799</th>\n      <td>2800</td>\n      <td>000013</td>\n      <td>*ST石化A</td>\n      <td>NaN</td>\n      <td>NaN</td>\n      <td>NaN</td>\n      <td>NaN</td>\n      <td>NaN</td>\n      <td>NaN</td>\n      <td>NaN</td>\n      <td>...</td>\n      <td>NaN</td>\n      <td>0.00</td>\n      <td>NaN</td>\n      <td>NaN</td>\n      <td>NaN</td>\n      <td>NaN</td>\n      <td>NaN</td>\n      <td>NaN</td>\n      <td>0.00</td>\n      <td>0.00</td>\n    </tr>\n    <tr>\n      <th>2800</th>\n      <td>2801</td>\n      <td>000003</td>\n      <td>PT金田A</td>\n      <td>NaN</td>\n      <td>NaN</td>\n      <td>NaN</td>\n      <td>NaN</td>\n      <td>NaN</td>\n      <td>NaN</td>\n      <td>NaN</td>\n      <td>...</td>\n      <td>NaN</td>\n      <td>0.00</td>\n      <td>NaN</td>\n      <td>NaN</td>\n      <td>NaN</td>\n      <td>NaN</td>\n      <td>NaN</td>\n      <td>NaN</td>\n      <td>0.00</td>\n      <td>0.00</td>\n    </tr>\n  </tbody>\n</table>\n<p>5559 rows × 23 columns</p>\n</div>"
     },
     "execution_count": 2,
     "metadata": {},
     "output_type": "execute_result"
    }
   ],
   "source": [
    "from open_quant_data.dataset.thirdparty.akshare.AkshareDataset import AkshareDataset as ak\n",
    "\n",
    "dataset = ak.stock_spot()\n",
    "dataset.sort_values(by='总市值')"
   ]
  }
 ],
 "metadata": {
  "kernelspec": {
   "display_name": "Python 3",
   "language": "python",
   "name": "python3"
  },
  "language_info": {
   "codemirror_mode": {
    "name": "ipython",
    "version": 2
   },
   "file_extension": ".py",
   "mimetype": "text/x-python",
   "name": "python",
   "nbconvert_exporter": "python",
   "pygments_lexer": "ipython2",
   "version": "2.7.6"
  }
 },
 "nbformat": 4,
 "nbformat_minor": 0
}
