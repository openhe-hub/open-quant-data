{
 "cells": [
  {
   "cell_type": "code",
   "execution_count": 2,
   "metadata": {
    "collapsed": true
   },
   "outputs": [
    {
     "data": {
      "text/plain": "      index stock_id stock_name  price  ratio  ratio_value   volume  \\\n5475   5476   832145       恒合股份   5.59  -6.21        -0.37  13077.0   \n5401   5402   836149       旭杰科技   5.42  -4.58        -0.26  13873.0   \n5431   5432   837046       亿能电力   6.00  -5.06        -0.32  16212.0   \n5502   5503   836871        派特尔   6.00  -7.12        -0.46  16157.0   \n5388   5389   873527        夜光明   7.62  -4.27        -0.34   7395.0   \n...     ...      ...        ...    ...    ...          ...      ...   \n3253   3254   000024       招商地产    NaN    NaN          NaN      NaN   \n3254   3255   000018       神城A退    NaN    NaN          NaN      NaN   \n3255   3256   000015      PT中浩A    NaN    NaN          NaN      NaN   \n3256   3257   000013     *ST石化A    NaN    NaN          NaN      NaN   \n3257   3258   000003      PT金田A    NaN    NaN          NaN      NaN   \n\n      volume_value  amplitude  high  ...  volume_ratio  turnover_rate     pe  \\\n5475    7553618.84       8.05  6.06  ...          0.46           2.92 -36.37   \n5401    7777122.32       9.68  5.95  ...          0.31           2.90  48.23   \n5431   10176575.01       9.02  6.50  ...          0.50           5.05  27.62   \n5502   10114519.90      11.61  6.65  ...          0.47           4.08  20.89   \n5388    5894970.41       8.17  8.27  ...          0.30           2.86  33.12   \n...            ...        ...   ...  ...           ...            ...    ...   \n3253           NaN        NaN   NaN  ...           NaN           0.00    NaN   \n3254           NaN        NaN   NaN  ...           NaN           0.00    NaN   \n3255           NaN        NaN   NaN  ...           NaN           0.00    NaN   \n3256           NaN        NaN   NaN  ...           NaN           0.00    NaN   \n3257           NaN        NaN   NaN  ...           NaN           0.00    NaN   \n\n        pb  market_value  flow_market_value  ratio_acc  5m_ret  60d_ret  \\\n5475  1.42   394374500.0        250584328.0       0.00    0.00    20.73   \n5401  2.26   399768360.0        259482180.0       0.00    0.00    44.92   \n5431  1.87   433500000.0        192461730.0       0.67    1.18    20.97   \n5502  1.86   442425696.0        237612552.0       0.33    0.33    35.14   \n5388  1.23   457525374.0        196761080.0      -0.13   -0.52    17.77   \n...    ...           ...                ...        ...     ...      ...   \n3253   NaN           NaN                NaN        NaN     NaN     0.00   \n3254   NaN           NaN                NaN        NaN     NaN     0.00   \n3255   NaN           NaN                NaN        NaN     NaN     0.00   \n3256   NaN           NaN                NaN        NaN     NaN     0.00   \n3257   NaN           NaN                NaN        NaN     NaN     0.00   \n\n      year_ret  \n5475     14.55  \n5401     38.97  \n5431     20.97  \n5502     26.58  \n5388     -1.68  \n...        ...  \n3253      0.00  \n3254      0.00  \n3255      0.00  \n3256      0.00  \n3257      0.00  \n\n[5559 rows x 23 columns]",
      "text/html": "<div>\n<style scoped>\n    .dataframe tbody tr th:only-of-type {\n        vertical-align: middle;\n    }\n\n    .dataframe tbody tr th {\n        vertical-align: top;\n    }\n\n    .dataframe thead th {\n        text-align: right;\n    }\n</style>\n<table border=\"1\" class=\"dataframe\">\n  <thead>\n    <tr style=\"text-align: right;\">\n      <th></th>\n      <th>index</th>\n      <th>stock_id</th>\n      <th>stock_name</th>\n      <th>price</th>\n      <th>ratio</th>\n      <th>ratio_value</th>\n      <th>volume</th>\n      <th>volume_value</th>\n      <th>amplitude</th>\n      <th>high</th>\n      <th>...</th>\n      <th>volume_ratio</th>\n      <th>turnover_rate</th>\n      <th>pe</th>\n      <th>pb</th>\n      <th>market_value</th>\n      <th>flow_market_value</th>\n      <th>ratio_acc</th>\n      <th>5m_ret</th>\n      <th>60d_ret</th>\n      <th>year_ret</th>\n    </tr>\n  </thead>\n  <tbody>\n    <tr>\n      <th>5475</th>\n      <td>5476</td>\n      <td>832145</td>\n      <td>恒合股份</td>\n      <td>5.59</td>\n      <td>-6.21</td>\n      <td>-0.37</td>\n      <td>13077.0</td>\n      <td>7553618.84</td>\n      <td>8.05</td>\n      <td>6.06</td>\n      <td>...</td>\n      <td>0.46</td>\n      <td>2.92</td>\n      <td>-36.37</td>\n      <td>1.42</td>\n      <td>394374500.0</td>\n      <td>250584328.0</td>\n      <td>0.00</td>\n      <td>0.00</td>\n      <td>20.73</td>\n      <td>14.55</td>\n    </tr>\n    <tr>\n      <th>5401</th>\n      <td>5402</td>\n      <td>836149</td>\n      <td>旭杰科技</td>\n      <td>5.42</td>\n      <td>-4.58</td>\n      <td>-0.26</td>\n      <td>13873.0</td>\n      <td>7777122.32</td>\n      <td>9.68</td>\n      <td>5.95</td>\n      <td>...</td>\n      <td>0.31</td>\n      <td>2.90</td>\n      <td>48.23</td>\n      <td>2.26</td>\n      <td>399768360.0</td>\n      <td>259482180.0</td>\n      <td>0.00</td>\n      <td>0.00</td>\n      <td>44.92</td>\n      <td>38.97</td>\n    </tr>\n    <tr>\n      <th>5431</th>\n      <td>5432</td>\n      <td>837046</td>\n      <td>亿能电力</td>\n      <td>6.00</td>\n      <td>-5.06</td>\n      <td>-0.32</td>\n      <td>16212.0</td>\n      <td>10176575.01</td>\n      <td>9.02</td>\n      <td>6.50</td>\n      <td>...</td>\n      <td>0.50</td>\n      <td>5.05</td>\n      <td>27.62</td>\n      <td>1.87</td>\n      <td>433500000.0</td>\n      <td>192461730.0</td>\n      <td>0.67</td>\n      <td>1.18</td>\n      <td>20.97</td>\n      <td>20.97</td>\n    </tr>\n    <tr>\n      <th>5502</th>\n      <td>5503</td>\n      <td>836871</td>\n      <td>派特尔</td>\n      <td>6.00</td>\n      <td>-7.12</td>\n      <td>-0.46</td>\n      <td>16157.0</td>\n      <td>10114519.90</td>\n      <td>11.61</td>\n      <td>6.65</td>\n      <td>...</td>\n      <td>0.47</td>\n      <td>4.08</td>\n      <td>20.89</td>\n      <td>1.86</td>\n      <td>442425696.0</td>\n      <td>237612552.0</td>\n      <td>0.33</td>\n      <td>0.33</td>\n      <td>35.14</td>\n      <td>26.58</td>\n    </tr>\n    <tr>\n      <th>5388</th>\n      <td>5389</td>\n      <td>873527</td>\n      <td>夜光明</td>\n      <td>7.62</td>\n      <td>-4.27</td>\n      <td>-0.34</td>\n      <td>7395.0</td>\n      <td>5894970.41</td>\n      <td>8.17</td>\n      <td>8.27</td>\n      <td>...</td>\n      <td>0.30</td>\n      <td>2.86</td>\n      <td>33.12</td>\n      <td>1.23</td>\n      <td>457525374.0</td>\n      <td>196761080.0</td>\n      <td>-0.13</td>\n      <td>-0.52</td>\n      <td>17.77</td>\n      <td>-1.68</td>\n    </tr>\n    <tr>\n      <th>...</th>\n      <td>...</td>\n      <td>...</td>\n      <td>...</td>\n      <td>...</td>\n      <td>...</td>\n      <td>...</td>\n      <td>...</td>\n      <td>...</td>\n      <td>...</td>\n      <td>...</td>\n      <td>...</td>\n      <td>...</td>\n      <td>...</td>\n      <td>...</td>\n      <td>...</td>\n      <td>...</td>\n      <td>...</td>\n      <td>...</td>\n      <td>...</td>\n      <td>...</td>\n      <td>...</td>\n    </tr>\n    <tr>\n      <th>3253</th>\n      <td>3254</td>\n      <td>000024</td>\n      <td>招商地产</td>\n      <td>NaN</td>\n      <td>NaN</td>\n      <td>NaN</td>\n      <td>NaN</td>\n      <td>NaN</td>\n      <td>NaN</td>\n      <td>NaN</td>\n      <td>...</td>\n      <td>NaN</td>\n      <td>0.00</td>\n      <td>NaN</td>\n      <td>NaN</td>\n      <td>NaN</td>\n      <td>NaN</td>\n      <td>NaN</td>\n      <td>NaN</td>\n      <td>0.00</td>\n      <td>0.00</td>\n    </tr>\n    <tr>\n      <th>3254</th>\n      <td>3255</td>\n      <td>000018</td>\n      <td>神城A退</td>\n      <td>NaN</td>\n      <td>NaN</td>\n      <td>NaN</td>\n      <td>NaN</td>\n      <td>NaN</td>\n      <td>NaN</td>\n      <td>NaN</td>\n      <td>...</td>\n      <td>NaN</td>\n      <td>0.00</td>\n      <td>NaN</td>\n      <td>NaN</td>\n      <td>NaN</td>\n      <td>NaN</td>\n      <td>NaN</td>\n      <td>NaN</td>\n      <td>0.00</td>\n      <td>0.00</td>\n    </tr>\n    <tr>\n      <th>3255</th>\n      <td>3256</td>\n      <td>000015</td>\n      <td>PT中浩A</td>\n      <td>NaN</td>\n      <td>NaN</td>\n      <td>NaN</td>\n      <td>NaN</td>\n      <td>NaN</td>\n      <td>NaN</td>\n      <td>NaN</td>\n      <td>...</td>\n      <td>NaN</td>\n      <td>0.00</td>\n      <td>NaN</td>\n      <td>NaN</td>\n      <td>NaN</td>\n      <td>NaN</td>\n      <td>NaN</td>\n      <td>NaN</td>\n      <td>0.00</td>\n      <td>0.00</td>\n    </tr>\n    <tr>\n      <th>3256</th>\n      <td>3257</td>\n      <td>000013</td>\n      <td>*ST石化A</td>\n      <td>NaN</td>\n      <td>NaN</td>\n      <td>NaN</td>\n      <td>NaN</td>\n      <td>NaN</td>\n      <td>NaN</td>\n      <td>NaN</td>\n      <td>...</td>\n      <td>NaN</td>\n      <td>0.00</td>\n      <td>NaN</td>\n      <td>NaN</td>\n      <td>NaN</td>\n      <td>NaN</td>\n      <td>NaN</td>\n      <td>NaN</td>\n      <td>0.00</td>\n      <td>0.00</td>\n    </tr>\n    <tr>\n      <th>3257</th>\n      <td>3258</td>\n      <td>000003</td>\n      <td>PT金田A</td>\n      <td>NaN</td>\n      <td>NaN</td>\n      <td>NaN</td>\n      <td>NaN</td>\n      <td>NaN</td>\n      <td>NaN</td>\n      <td>NaN</td>\n      <td>...</td>\n      <td>NaN</td>\n      <td>0.00</td>\n      <td>NaN</td>\n      <td>NaN</td>\n      <td>NaN</td>\n      <td>NaN</td>\n      <td>NaN</td>\n      <td>NaN</td>\n      <td>0.00</td>\n      <td>0.00</td>\n    </tr>\n  </tbody>\n</table>\n<p>5559 rows × 23 columns</p>\n</div>"
     },
     "execution_count": 2,
     "metadata": {},
     "output_type": "execute_result"
    }
   ],
   "source": [
    "from open_quant_data.dataset.thirdparty.akshare.AkshareDataset import AkshareDataset as ak\n",
    "\n",
    "dataset = ak.stock_spot()\n",
    "dataset.sort_values(by='market_value')"
   ]
  },
  {
   "cell_type": "code",
   "execution_count": null,
   "outputs": [],
   "source": [],
   "metadata": {
    "collapsed": false
   }
  }
 ],
 "metadata": {
  "kernelspec": {
   "display_name": "Python 3",
   "language": "python",
   "name": "python3"
  },
  "language_info": {
   "codemirror_mode": {
    "name": "ipython",
    "version": 2
   },
   "file_extension": ".py",
   "mimetype": "text/x-python",
   "name": "python",
   "nbconvert_exporter": "python",
   "pygments_lexer": "ipython2",
   "version": "2.7.6"
  }
 },
 "nbformat": 4,
 "nbformat_minor": 0
}
